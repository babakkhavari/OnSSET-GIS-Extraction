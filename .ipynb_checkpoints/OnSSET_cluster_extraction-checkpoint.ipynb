{
 "cells": [
  {
   "cell_type": "markdown",
   "metadata": {},
   "source": [
    "# OnSSET GIS-Extraction Notebook\n",
    "\n",
    "**Conceptualization, Methodology & Original code**: [Babak Khavari](https://github.com/babakkhavari) <br/>\n",
    "**Review and Updates**: [Babak Khavari](https://github.com/babakkhavari)\n",
    "\n",
    "This is the GEP-OnSSET GIS extraction notebook. This is supposed to act as a complement to the QGIS plugins available [here](https://github.com/global-electrification-platform/Cluster-based_extraction_OnSSET/tree/master/Plugin). \n",
    "\n",
    "The main purpose of this notebook is to facilitate the change of single datasets without running through the entire plugin. Using this notebook the user will be able to change however many datasets needed.\n",
    "\n",
    "In order to run an OnSSET analysis the following datasets are needed:\n",
    "* Land Cover\n",
    "* Elevation \n",
    "* Slope\n",
    "* Global horizontal irradiation\n",
    "* Travel time\n",
    "* Wind velocity\n",
    "* Clusters **(these clusters should include: The name of the study area, the amount of nighttime lights, population, population living in areas with nighttime light and an ID column)**. The clusters can be downloaded from [Energydata.info](https://energydata.info/) or generated directly using the [following plugin](https://github.com/global-electrification-platform/Clustering)\n",
    "\n",
    "In addition to this there are also some optional datasets that can be used in the analysis:\n",
    "* Custom Demand - A layer that can be created by the users themselves. For the first round of GEP the methodlogy described [here](https://www.mdpi.com/1996-1073/12/7/1395) has been used.\n",
    "* Substations\n",
    "* Transformers\n",
    "* Mini/Small hydro\n",
    "* Existing and planned HV-lines\n",
    "* Existing and planned MV-lines \n",
    "* Road network\n",
    "\n",
    "Below instructions for each cell follows. The cells marked with **(Mandatory)** in the title have to be run."
   ]
  },
  {
   "cell_type": "markdown",
   "metadata": {},
   "source": [
    "## Cell 1 - Importing necessary packages (Mandatory)\n",
    "\n",
    "Packages to be used are imported from the funcs.ipynb."
   ]
  },
  {
   "cell_type": "code",
   "execution_count": null,
   "metadata": {},
   "outputs": [],
   "source": [
    "%run funcs.ipynb"
   ]
  },
  {
   "cell_type": "markdown",
   "metadata": {},
   "source": [
    "## Cell 2 - Setting the target coordinate system (Mandatory)\n",
    "\n",
    "When calculating distances it is important to choose a coordinate system that represents distances correctly in your area of interst. The coordinate system that is given below is the World Mercator, these coordinate system works well for Sub Saharan Africa but the distortions get larger as you move away from the equator.\n",
    "\n",
    "In order to select your own coordinate system go to [epsg.io](http://epsg.io/) and type in your area of interest, this will give you a list of coordinate systems to choose from. Once you have selected your coordinate system replace the numbers below with the numbers from your coordinate system **(keep the \"EPSG\" part)**.\n",
    "\n",
    "**NOTE** When selecting your coordinate system make sure that you select a system with the unit of meters, this is indicated for all systems on [epsg.io](http://epsg.io/)"
   ]
  },
  {
   "cell_type": "code",
   "execution_count": null,
   "metadata": {},
   "outputs": [],
   "source": [
    "crs = 'EPSG:3395'"
   ]
  },
  {
   "cell_type": "markdown",
   "metadata": {},
   "source": [
    "## Cell 3 - Select the workspace and the administrative boundaries (Mandatory)\n",
    "\n",
    "Define the workspace. The output layers will populate this folder. It is highly recommended to select an empty folder as your workspace.\n",
    "\n",
    "For the administrative boundaries you will have to select an **Polygon** layer represeting your area of interest.\n",
    "        "
   ]
  },
  {
   "cell_type": "code",
   "execution_count": null,
   "metadata": {
    "scrolled": true
   },
   "outputs": [],
   "source": [
    "messagebox.showinfo('OnSSET extraction', 'Output folder')\n",
    "workspace = filedialog.askdirectory()\n",
    "\n",
    "messagebox.showinfo('OnSSET', 'Select the admin boundaries')\n",
    "admin = gpd.read_file(filedialog.askopenfilename(filetypes = ((\"shapefile\",\"*.shp\"),(\"all files\",\"*.*\"))))"
   ]
  },
  {
   "cell_type": "markdown",
   "metadata": {},
   "source": [
    "## Cell 4 - Select the population clusters (Mandatory)\n",
    "\n",
    "Select the clusters to be used in the analysis\n",
    "\n",
    "Please also idicate which column is representing the population data as this will be used later. "
   ]
  },
  {
   "cell_type": "code",
   "execution_count": null,
   "metadata": {},
   "outputs": [],
   "source": [
    "messagebox.showinfo('OnSSET', 'Select the clusters')\n",
    "clusters = gpd.read_file(filedialog.askopenfilename(filetypes = ((\"shapefile\",\"*.shp\"),(\"all files\",\"*.*\"))))\n",
    "    \n",
    "popunit = widgets.Dropdown(options=clusters.head(),\n",
    "    value=None,\n",
    "    description='Population:',\n",
    "    disabled=False)\n",
    "display(popunit)\n",
    "x = popunit.value"
   ]
  },
  {
   "cell_type": "markdown",
   "metadata": {},
   "source": [
    "## Cell 5 - Select the Land Cover map (Raster map)\n",
    "\n",
    "**If your settlement data already includes land cover data, skip to cell 6. Note however that this dataset is mandatory to run the OnSSET analysis**\n",
    "\n",
    "Select the land cover map that you wish to use in your analysis. This cell will extract the land cover values in your raster map to your clusters.\n"
   ]
  },
  {
   "cell_type": "code",
   "execution_count": null,
   "metadata": {},
   "outputs": [],
   "source": [
    "clusters = processing_raster(\"landcover\",\"majority\",clusters)"
   ]
  },
  {
   "cell_type": "markdown",
   "metadata": {},
   "source": [
    "## Cell 6 - Select the Elevation map (Raster map)\n",
    "\n",
    "**If your settlement data already includes elevation and slope data, skip to cell 7. Note however that this dataset is mandatory to run the OnSSET analysis**\n",
    "\n",
    "Select the elevation map that you wish to use in your analysis. This cell will extract the elevation values in your raster map to your clusters. This cell will also generate the a map for the terrain slope. "
   ]
  },
  {
   "cell_type": "code",
   "execution_count": null,
   "metadata": {},
   "outputs": [],
   "source": [
    "clusters = processing_elevation_and_slope(\"elevation\",\"mean\",clusters, workspace,crs)"
   ]
  },
  {
   "cell_type": "markdown",
   "metadata": {},
   "source": [
    "## Cell 7 - Select the Global Horizontal Irradiation (GHI) map (Raster map)\n",
    "\n",
    "**If your settlement data already includes GHI data, skip to cell 8. Note however that this dataset is mandatory to run the OnSSET analysis**\n",
    "\n",
    "Select the ghi map that you wish to use in your analysis. This cell will extract the ghi values in your raster map to your clusters."
   ]
  },
  {
   "cell_type": "code",
   "execution_count": null,
   "metadata": {},
   "outputs": [],
   "source": [
    "clusters = processing_raster(\"ghi\",\"mean\",clusters)"
   ]
  },
  {
   "cell_type": "markdown",
   "metadata": {
    "collapsed": true
   },
   "source": [
    "## Cell 8 - Select the Travel Time map (Raster map)\n",
    " \n",
    "**If your settlement data already includes travel time data, skip to cell 9. Note however that this dataset is mandatory to run the OnSSET analysis**\n",
    "\n",
    "Select the travel time map that you wish to use in your analysis. This cell will extract the travel time values in your raster map to your clusters."
   ]
  },
  {
   "cell_type": "code",
   "execution_count": null,
   "metadata": {},
   "outputs": [],
   "source": [
    "clusters = processing_raster(\"traveltime\",\"mean\",clusters)"
   ]
  },
  {
   "cell_type": "markdown",
   "metadata": {},
   "source": [
    "## Cell 9 - Select the Wind Velocity map (Raster map)\n",
    "\n",
    "**If your settlement data already includes wind velocity data, skip to cell 10. Note however that this dataset is mandatory to run the OnSSET analysis**\n",
    "\n",
    "Select the wind velocity map that you wish to use in your analysis. This cell will extract the wind velocity values in your raster map to your clusters."
   ]
  },
  {
   "cell_type": "code",
   "execution_count": null,
   "metadata": {},
   "outputs": [],
   "source": [
    "clusters = processing_raster(\"wind\",\"mean\",clusters)"
   ]
  },
  {
   "cell_type": "markdown",
   "metadata": {},
   "source": [
    "## Cell 10 - Select the Custom Demand map (Raster map) (optional dataset)\n",
    "\n",
    "Select the custom demand map that you wish to use in your analysis. This is an optional dataset. \n",
    "\n",
    "This cell will extract the custom demand values in your raster map to your clusters."
   ]
  },
  {
   "cell_type": "code",
   "execution_count": null,
   "metadata": {},
   "outputs": [],
   "source": [
    "clusters = processing_raster(\"customdemand\",\"mean\",clusters)"
   ]
  },
  {
   "cell_type": "markdown",
   "metadata": {},
   "source": [
    "## Cell 11 - Finalizing the raster data\n",
    "\n",
    "\n",
    "Saving the clusters with extracted rasters.\n",
    "\n",
    "**NOTE** You have to run this cell if you ran any of the cells 5 through 10. If you did not run any of the mentioned cells skip to cell 12."
   ]
  },
  {
   "cell_type": "code",
   "execution_count": null,
   "metadata": {},
   "outputs": [],
   "source": [
    "clusters = finalizing_rasters(workspace, clusters, crs)"
   ]
  },
  {
   "cell_type": "markdown",
   "metadata": {},
   "source": [
    "## Cell 12 - Preparing to run the vector data\n",
    "\n",
    "**If you are planning on extracting any vector data (substations, transformers, hydro, MV-lines, HV-lines or roads) run this cell**. \n",
    "\n",
    "This cell reprojects the settlements to the coordinate system you specified above."
   ]
  },
  {
   "cell_type": "code",
   "execution_count": null,
   "metadata": {
    "scrolled": true
   },
   "outputs": [],
   "source": [
    "clusters = preparing_for_vectors(workspace, clusters, crs)"
   ]
  },
  {
   "cell_type": "markdown",
   "metadata": {},
   "source": [
    "## Cell 13 - Substations (Vector point layer)\n",
    "\n",
    "**If you do not have substations or wish to keep the ones already in your settlement file, skip to cell 14.**\n",
    "\n",
    "Determines the distances between each settlement point to the closest substation. "
   ]
  },
  {
   "cell_type": "code",
   "execution_count": null,
   "metadata": {},
   "outputs": [],
   "source": [
    "clusters = processing_points(\"Substation\", admin, crs, workspace, clusters)"
   ]
  },
  {
   "cell_type": "markdown",
   "metadata": {},
   "source": [
    "## Cell 14 - Existing high voltage lines (Vector line layer)\n",
    "\n",
    "**If you do not have existing high voltage lines or wish to keep the ones already in your settlement file, skip to cell 15.**\n",
    "\n",
    "Determines the distances between each settlement point to the closest existing high voltage line. "
   ]
  },
  {
   "cell_type": "code",
   "execution_count": null,
   "metadata": {},
   "outputs": [],
   "source": [
    "clusters = processing_lines(\"Existing_HV\", admin, crs, workspace, clusters)"
   ]
  },
  {
   "cell_type": "markdown",
   "metadata": {},
   "source": [
    "## Cell 15 - Planned high voltage lines (Vector line layer)\n",
    "\n",
    "**If you do not have planned high voltage lines or wish to keep the ones already in your settlement file, skip to cell 16.**\n",
    "\n",
    "Determines the distances between each settlement point to the closest planned high voltage line. "
   ]
  },
  {
   "cell_type": "code",
   "execution_count": null,
   "metadata": {},
   "outputs": [],
   "source": [
    "clusters = processing_lines(\"Planned_HV\", admin, crs, workspace, clusters)"
   ]
  },
  {
   "cell_type": "markdown",
   "metadata": {},
   "source": [
    "## Cell 16 - Existing medium voltage lines (Vector line layer)\n",
    "\n",
    "**If you do not have existing medium voltage lines or wish to keep the ones already in your settlement file, skip to cell 17.**\n",
    "\n",
    "Determines the distances between each settlement point to the closest existing medium voltage line. "
   ]
  },
  {
   "cell_type": "code",
   "execution_count": null,
   "metadata": {},
   "outputs": [],
   "source": [
    "clusters = processing_lines(\"Existing_MV\", admin, crs, workspace, clusters)"
   ]
  },
  {
   "cell_type": "markdown",
   "metadata": {},
   "source": [
    "## Cell 17 - Planned medium voltage lines (Vector line layer)\n",
    "\n",
    "**If you do not have planned medium voltage lines or wish to keep the ones already in your settlement file, skip to cell 18.**\n",
    "\n",
    "Determines the distances between each settlement point to the closest planned medium voltage line. "
   ]
  },
  {
   "cell_type": "code",
   "execution_count": null,
   "metadata": {},
   "outputs": [],
   "source": [
    "clusters = processing_lines(\"Planned_MV\", admin, crs, workspace, clusters)"
   ]
  },
  {
   "cell_type": "markdown",
   "metadata": {},
   "source": [
    "## Cell 18 - Roads (Vector line layer)\n",
    "\n",
    "**If you do not have roads or wish to keep the ones already in your settlement file, skip to cell 19.**\n",
    "\n",
    "Determines the distances between each settlement point to the closest road. "
   ]
  },
  {
   "cell_type": "code",
   "execution_count": null,
   "metadata": {},
   "outputs": [],
   "source": [
    "clusters = processing_lines(\"Roads\", admin, crs, workspace, clusters)"
   ]
  },
  {
   "cell_type": "markdown",
   "metadata": {},
   "source": [
    "## Cell 19 - Transformers (Vector point layer)\n",
    "\n",
    "**If you do not have transformers or wish to keep the ones in the already in the settlement file, skip to cell 20** \n",
    "\n",
    "Determines the distances between each settlement point to the closest transformer. "
   ]
  },
  {
   "cell_type": "code",
   "execution_count": null,
   "metadata": {},
   "outputs": [],
   "source": [
    "clusters = processing_points(\"Transformer\", admin, crs, workspace, clusters)"
   ]
  },
  {
   "cell_type": "markdown",
   "metadata": {},
   "source": [
    "## Cell 20 and 21 - Selecting and processing hydro points (Vector point layer)\n",
    "\n",
    "**If you do not have new hydro power points skip to cell 22** \n",
    "\n",
    "**In Cell 20** Select the hydro point layer you wish to use. It is important to have a column representing the power output for each hydro point in your dataset. After selecting the column you will also have to select the unit (W, kW or MW). \n",
    "\n",
    "**In Cell 21** When everything is selected in cell 20, run cell 21 in order to determine the distane to the closest hydro point for each settlement."
   ]
  },
  {
   "cell_type": "code",
   "execution_count": null,
   "metadata": {},
   "outputs": [],
   "source": [
    "messagebox.showinfo('OnSSET', 'Select the Hydropower map')\n",
    "hydro=gpd.read_file(filedialog.askopenfilename(title = \"Select Hydro map\", filetypes = ((\"shapefile\",\"*.shp\"),(\"all files\",\"*.*\"))))\n",
    "\n",
    "hydropower = widgets.Dropdown(options=hydro.head(),\n",
    "    value=None,\n",
    "    description='Hydropower:',\n",
    "    disabled=False)\n",
    "\n",
    "display(hydropower)\n",
    "      \n",
    "hydrounit = widgets.Dropdown(options=['W', 'kW', 'MW'],\n",
    "    value='W',\n",
    "    description='Unit:',\n",
    "    disabled=False)\n",
    "\n",
    "display(hydrounit)"
   ]
  },
  {
   "cell_type": "code",
   "execution_count": null,
   "metadata": {},
   "outputs": [],
   "source": [
    "clusters = processing_hydro(admin, crs, workspace, clusters, hydro, hydropower.value, hydrounit.value)"
   ]
  },
  {
   "cell_type": "markdown",
   "metadata": {},
   "source": [
    "## Cell 22 - Conditioning & Export (Mandatory)\n",
    "\n",
    "This is the final cell in the extraction. This cell has to be run."
   ]
  },
  {
   "cell_type": "code",
   "execution_count": null,
   "metadata": {},
   "outputs": [],
   "source": [
    "clusters = conditioning(clusters, workspace, popunit.value)"
   ]
  }
 ],
 "metadata": {
  "celltoolbar": "Raw Cell Format",
  "kernelspec": {
   "display_name": "Python 3",
   "language": "python",
   "name": "python3"
  },
  "language_info": {
   "codemirror_mode": {
    "name": "ipython",
    "version": 3
   },
   "file_extension": ".py",
   "mimetype": "text/x-python",
   "name": "python",
   "nbconvert_exporter": "python",
   "pygments_lexer": "ipython3",
   "version": "3.7.7"
  }
 },
 "nbformat": 4,
 "nbformat_minor": 2
}
